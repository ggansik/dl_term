{
 "cells": [
  {
   "cell_type": "code",
   "execution_count": 1,
   "metadata": {},
   "outputs": [],
   "source": [
    "#Total model - Tacotron whole model"
   ]
  },
  {
   "cell_type": "code",
   "execution_count": 3,
   "metadata": {},
   "outputs": [],
   "source": [
    "import torch\n",
    "import torch.nn as nn\n",
    "import torch.optim as optim\n",
    "from torch.autograd import Variable\n",
    "from torch.utils.data import DataLoader\n",
    "from torch.utils.data import sampler\n",
    "import torch.nn.functional as F\n",
    "\n",
    "import torchvision.datasets as dset\n",
    "import torchvision.transforms as T\n",
    "\n",
    "import numpy as np"
   ]
  },
  {
   "cell_type": "code",
   "execution_count": null,
   "metadata": {},
   "outputs": [],
   "source": [
    "class PostProcessing(nn.Module):\n",
    "    \"\"\"\n",
    "    make post processing data\n",
    "    \n",
    "    \"\"\"\n",
    "    def __init__(self):\n",
    "        super(PostProcessing, self).__init__()\n",
    "        self.postcbhg = DecoderCBHG(K=8)\n",
    "        self.linear = nn.Linear(160, 1025)\n",
    "    def forward(self, batch_size, data):\n",
    "        \"\"\"\n",
    "            make data shape (B, -1, 80)\n",
    "        \"\"\"\n",
    "        data = data.view(batch_size, -1, 80)\n",
    "        output = self.postcbhg(data)\n",
    "        output = self.linear(output)\n",
    "        \n",
    "        return output"
   ]
  },
  {
   "cell_type": "code",
   "execution_count": null,
   "metadata": {},
   "outputs": [],
   "source": [
    "class Tacotron(nn.Modules):\n",
    "    def __init__(self, vocab_num, input_dim=256, spect_dim=80):\n",
    "        super(Tacotron, self).__init__()\n",
    "        self.input_dim = input_dim\n",
    "        self.spect_dim = spect_dim\n",
    "        self.embedding = nn.Embedding(vocab_num, input_dim) #embedding dimension\n",
    "        self.embedding.weight.data.normal_(0,0.3)\n",
    "        self.Encoder = Encoder(x)\n",
    "        self.Decoder = Decoder(256*, r=2) #write input_dimension\n",
    "        self.Postprocessing = PostProcessing()\n",
    "    def forward(self, inputs, spect_targets=None, r= 2):\n",
    "        \"\"\"\n",
    "        make total model!\n",
    "        input : (B, encoder.T, in_dim)\n",
    "        \n",
    "        \"\"\"\n",
    "        batch_size = inputs.size(0)\n",
    "        memory = self.embedding(inputs)\n",
    "        \n",
    "        #encoding\n",
    "        #(B, encoder.T, input_dim)\n",
    "        memory = self.Encoder(memory)\n",
    "        \n",
    "        #decoding\n",
    "        #(B, encoder.T, mel_dim * r)\n",
    "        decoder_output = self.decoder(memory, spect_targets)\n",
    "        \n",
    "        #postprocessing\n",
    "        #(B, encoder.T, 1025)\n",
    "        decoder_output = decoder_output.view(B, -1, self.spect_dim)\n",
    "        wav_output = self.PostProcessing(batch_size, decoder_output)\n",
    "        \n",
    "        return decoder_output, wav_output"
   ]
  }
 ],
 "metadata": {
  "kernelspec": {
   "display_name": "Python 3",
   "language": "python",
   "name": "python3"
  },
  "language_info": {
   "codemirror_mode": {
    "name": "ipython",
    "version": 3
   },
   "file_extension": ".py",
   "mimetype": "text/x-python",
   "name": "python",
   "nbconvert_exporter": "python",
   "pygments_lexer": "ipython3",
   "version": "3.6.4"
  }
 },
 "nbformat": 4,
 "nbformat_minor": 2
}
