{
 "cells": [
  {
   "cell_type": "code",
   "execution_count": null,
   "metadata": {},
   "outputs": [],
   "source": []
  },
  {
   "cell_type": "code",
   "execution_count": 1,
   "metadata": {},
   "outputs": [
    {
     "ename": "ModuleNotFoundError",
     "evalue": "No module named 'text'",
     "output_type": "error",
     "traceback": [
      "\u001b[1;31m---------------------------------------------------------------------------\u001b[0m",
      "\u001b[1;31mModuleNotFoundError\u001b[0m                       Traceback (most recent call last)",
      "\u001b[1;32m<ipython-input-1-e630284d406f>\u001b[0m in \u001b[0;36m<module>\u001b[1;34m()\u001b[0m\n\u001b[0;32m      1\u001b[0m \u001b[1;32mimport\u001b[0m \u001b[0msys\u001b[0m\u001b[1;33m\u001b[0m\u001b[0m\n\u001b[0;32m      2\u001b[0m \u001b[1;32mimport\u001b[0m \u001b[0mTacotron\u001b[0m\u001b[1;33m\u001b[0m\u001b[0m\n\u001b[1;32m----> 3\u001b[1;33m \u001b[1;32mfrom\u001b[0m \u001b[0mtext\u001b[0m \u001b[1;32mimport\u001b[0m \u001b[0mtext_to_sequence\u001b[0m\u001b[1;33m,\u001b[0m \u001b[0msymbols\u001b[0m\u001b[1;33m\u001b[0m\u001b[0m\n\u001b[0m\u001b[0;32m      4\u001b[0m \u001b[1;32mimport\u001b[0m \u001b[0mtorch\u001b[0m\u001b[1;33m\u001b[0m\u001b[0m\n\u001b[0;32m      5\u001b[0m \u001b[1;32mfrom\u001b[0m \u001b[0mtorch\u001b[0m\u001b[1;33m.\u001b[0m\u001b[0mautograd\u001b[0m \u001b[1;32mimport\u001b[0m \u001b[0mVariable\u001b[0m\u001b[1;33m\u001b[0m\u001b[0m\n",
      "\u001b[1;31mModuleNotFoundError\u001b[0m: No module named 'text'"
     ]
    }
   ],
   "source": [
    "import sys\n",
    "import Tacotron\n",
    "from text import text_to_sequence, symbols\n",
    "import torch\n",
    "from torch.autograd import Variable\n",
    "from tacotron_pytorch import Tacotron\n",
    "import numpy as np"
   ]
  },
  {
   "cell_type": "code",
   "execution_count": null,
   "metadata": {},
   "outputs": [],
   "source": [
    "\n",
    "def _pad(seq, max_len):\n",
    "    return np.pad(seq, (0, max_len - len(seq)),\n",
    "                  mode='constant', constant_values=0)\n",
    "\n",
    "\n",
    "def test_taco():\n",
    "    B, T_out, D_out = 2, 400, 80\n",
    "    r = 5\n",
    "    T_encoder = T_out // r\n",
    "\n",
    "    texts = [\"Thank you very much.\", \"Hello\"]\n",
    "    seqs = [np.array(text_to_sequence(\n",
    "        t, [\"english_cleaners\"]), dtype=np.int) for t in texts]\n",
    "    input_lengths = np.array([len(s) for s in seqs])\n",
    "    max_len = np.max(input_lengths)\n",
    "    seqs = np.array([_pad(s, max_len) for s in seqs])\n",
    "\n",
    "    x = torch.LongTensor(seqs)\n",
    "    y = torch.rand(B, T_out, D_out)\n",
    "    x = Variable(x)\n",
    "    y = Variable(y)\n",
    "\n",
    "    model = Tacotron(n_vocab=len(symbols), r=r)\n",
    "\n",
    "    print(\"Encoder input shape: \", x.size())\n",
    "    print(\"Decoder input shape: \", y.size())\n",
    "    a, b, c = model(x, y, input_lengths=input_lengths)\n",
    "    print(\"Mel shape:\", a.size())\n",
    "    print(\"Linear shape:\", b.size())\n",
    "    print(\"Attention shape:\", c.size())\n",
    "\n",
    "    assert c.size() == (B, T_encoder, max_len)\n",
    "\n",
    "    # Test greddy decoding\n",
    "    a, b, c = model(x, input_lengths=input_lengths)"
   ]
  },
  {
   "cell_type": "code",
   "execution_count": null,
   "metadata": {},
   "outputs": [],
   "source": []
  }
 ],
 "metadata": {
  "kernelspec": {
   "display_name": "Python 3",
   "language": "python",
   "name": "python3"
  },
  "language_info": {
   "codemirror_mode": {
    "name": "ipython",
    "version": 3
   },
   "file_extension": ".py",
   "mimetype": "text/x-python",
   "name": "python",
   "nbconvert_exporter": "python",
   "pygments_lexer": "ipython3",
   "version": "3.6.4"
  },
  "varInspector": {
   "cols": {
    "lenName": 16,
    "lenType": 16,
    "lenVar": 40
   },
   "kernels_config": {
    "python": {
     "delete_cmd_postfix": "",
     "delete_cmd_prefix": "del ",
     "library": "var_list.py",
     "varRefreshCmd": "print(var_dic_list())"
    },
    "r": {
     "delete_cmd_postfix": ") ",
     "delete_cmd_prefix": "rm(",
     "library": "var_list.r",
     "varRefreshCmd": "cat(var_dic_list()) "
    }
   },
   "types_to_exclude": [
    "module",
    "function",
    "builtin_function_or_method",
    "instance",
    "_Feature"
   ],
   "window_display": false
  }
 },
 "nbformat": 4,
 "nbformat_minor": 2
}
